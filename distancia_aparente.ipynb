{
 "cells": [
  {
   "cell_type": "code",
   "execution_count": 1,
   "metadata": {},
   "outputs": [],
   "source": [
    "def transpose_matrix(matriz):\n",
    "    zipped_rows = zip(*matriz)\n",
    "    return [list(row) for row in zipped_rows]"
   ]
  },
  {
   "cell_type": "code",
   "execution_count": 2,
   "metadata": {},
   "outputs": [],
   "source": [
    "def pm(matriz):\n",
    "    for i in matriz:\n",
    "        print(i)\n",
    "    print(\"\")"
   ]
  },
  {
   "cell_type": "code",
   "execution_count": 3,
   "metadata": {},
   "outputs": [],
   "source": [
    "#revisa si un vector es zero\n",
    "def zero_vector(vector):\n",
    "    if type(vector) is Integer:\n",
    "        return vector == 0\n",
    "    else:\n",
    "        for i in range(0,len(vector)):\n",
    "            if vector[i] != 0:\n",
    "                return False\n",
    "    return True"
   ]
  },
  {
   "cell_type": "code",
   "execution_count": 4,
   "metadata": {},
   "outputs": [],
   "source": [
    "#retorna el omega maximo para un vector respecto a sus entradas no nulas\n",
    "def dist_Hm(hm):\n",
    "    om = []\n",
    "    indices = []\n",
    "    for i in range(0,len(hm)):\n",
    "        if hm[i] != 0:\n",
    "            indices.append(i)\n",
    "    for i in indices:\n",
    "        om.append(omeg(hm,i,0)+1)\n",
    "    return max(om)     "
   ]
  },
  {
   "cell_type": "code",
   "execution_count": 5,
   "metadata": {},
   "outputs": [],
   "source": [
    "#calcula el omega de un vector (sea fila o columna) a partir de su matriz\n",
    "#dim=0 para filas y dim=1 para columnas\n",
    "#vector es el indice del vector que queremos evaluar, iniciando en 0\n",
    "def omeg(matriz, vector, dim):\n",
    "    counter = 0\n",
    "    if dim == 0:\n",
    "        matriz = matriz[vector:] + matriz\n",
    "        for i in range(len(matriz)):\n",
    "            if(zero_vector(matriz[i+1])):\n",
    "                counter += 1\n",
    "            else:\n",
    "                break\n",
    "    if dim == 1:\n",
    "        t_matriz = transpose_matrix(matriz)\n",
    "        t_matriz = t_matriz[vector:] + t_matriz\n",
    "        for i in range(len(t_matriz)):\n",
    "            if(zero_vector(t_matriz[i+1])):\n",
    "                counter += 1\n",
    "            else:\n",
    "                break\n",
    "    return counter"
   ]
  },
  {
   "cell_type": "code",
   "execution_count": 6,
   "metadata": {},
   "outputs": [],
   "source": [
    "#calculo de la distancia aparente de una matriz\n",
    "def ad(mat):  \n",
    "    ind_x = []\n",
    "    ind_y = []\n",
    "    \n",
    "    omega_x = []\n",
    "    omega_Hm_x = []\n",
    "    omega_y = []\n",
    "    omega_Hm_y = []\n",
    "    \n",
    "    dist_x = 0\n",
    "    dist_y = 0\n",
    "    \n",
    "    #separar filas y columnas\n",
    "    rows = list([x for x in mat])\n",
    "    columns = list([x for x in transpose_matrix(mat)])\n",
    "    \n",
    "    #distancia aparente respecto a x\n",
    "    #revisar cuales son las filas no nulas para sacar su omega y distancia aparente\n",
    "    for i in range(0, len(rows)):\n",
    "        if not zero_vector(rows[i]):\n",
    "            ind_x.append(i)\n",
    "    for i in ind_x:\n",
    "        omega_x.append(omeg(mat,i,0))\n",
    "        omega_Hm_x.append(dist_Hm(rows[i]))\n",
    "    #calcular la distancia aparente respecto a x\n",
    "    for i in range(0,len(omega_x)):\n",
    "        if (omega_x[i]+1)*omega_Hm_x[i] > dist_x:\n",
    "            dist_x = (omega_x[i]+1)*omega_Hm_x[i]\n",
    "            \n",
    "    #distancia aparente respecto a y     \n",
    "    #revisar cuales son las columnas no nulas para sacar su omega y distancia aparente\n",
    "    for i in range(0, len(columns)):\n",
    "        if not zero_vector(columns[i]):\n",
    "            ind_y.append(i)\n",
    "    for i in ind_y:\n",
    "        omega_y.append(omeg(mat,i,1))\n",
    "        omega_Hm_y.append(dist_Hm(columns[i]))\n",
    "    \n",
    "    #calcular la distancia aparente respecto a y\n",
    "    for i in range(0,len(omega_y)):\n",
    "        if (omega_y[i]+1)*omega_Hm_y[i] > dist_y:\n",
    "            dist_y = (omega_y[i]+1)*omega_Hm_y[i]\n",
    "    print(\"Distancia aparente:\",max([dist_x,dist_y]))\n",
    "    #retornar el maximo entre la D.A. respecto a x y respecto a y\n",
    "    return max([dist_x,dist_y])"
   ]
  },
  {
   "cell_type": "code",
   "execution_count": 7,
   "metadata": {},
   "outputs": [],
   "source": [
    "#calcula las duplas que hacen parte de la q-orbita\n",
    "#q: entero, numero primo de la q-orbita\n",
    "#a: dupla de enteros, los enteros a0 y a1 de la q-orbita que se quiere calcular\n",
    "#r: dupla de enteros, r1 y r2 en I = Zr1 x Zr2\n",
    "def q_orbits(q,a,r):\n",
    "    parejas = []\n",
    "    for i in range(r[0]*r[1]):\n",
    "        coord1 = (a[0] * q**i) % r[0]\n",
    "        coord2 = (a[1] * q**i) % r[1]\n",
    "        if [coord1,coord2] not in parejas:\n",
    "            parejas.append([coord1,coord2])\n",
    "    return parejas\n",
    "\n",
    "#calcula las duplas que hacen parte de la q-orbita\n",
    "#q: entero, numero primo de la q-orbita\n",
    "#a: lista de duplas de enteros, las duplas de las q-orbitas\n",
    "#r: dupla de enteros, r1 y r2 en I = Zr1 x Zr2\n",
    "def generate_matrix(q,a,r):\n",
    "    coordinates = []\n",
    "    for j in a:\n",
    "        qorbits = q_orbits(q,j,r)\n",
    "        for o in qorbits:\n",
    "            if o not in coordinates:\n",
    "                coordinates.append(o)\n",
    "    matrix = [[0 for x in range(r[1])] for y in range(r[0])]\n",
    "    for i in range(r[0]):\n",
    "        for j in range(r[1]): \n",
    "            matrix[i][j] = 0 if [i,j] in coordinates else 1\n",
    "    return matrix\n",
    "\n",
    "#conjuga la matriz\n",
    "def conjugate(matriz):\n",
    "    m = matriz\n",
    "    for i in m:\n",
    "        for j in range(len(i)):\n",
    "            i[j] = 1 if (i[j]==0) else 0\n",
    "    return m"
   ]
  },
  {
   "cell_type": "markdown",
   "metadata": {},
   "source": [
    "<b>Ejemplo 1</b>"
   ]
  },
  {
   "cell_type": "code",
   "execution_count": 8,
   "metadata": {},
   "outputs": [
    {
     "name": "stdout",
     "output_type": "stream",
     "text": [
      "[0, 0, 0, 0, 0, 1, 0, 1, 0, 0, 1, 1, 0, 1, 1]\n",
      "[0, 0, 1, 1, 1, 1, 1, 1, 1, 1, 1, 1, 1, 1, 1]\n",
      "[0, 1, 0, 1, 1, 1, 1, 1, 1, 1, 1, 1, 1, 1, 1]\n",
      "[0, 1, 1, 1, 1, 1, 1, 1, 0, 1, 1, 1, 1, 1, 1]\n",
      "[0, 1, 1, 1, 0, 1, 1, 1, 1, 1, 1, 1, 1, 1, 1]\n",
      "\n"
     ]
    }
   ],
   "source": [
    "matrix =  generate_matrix(2,[[0,0],[0,1],[0,3],[1,0],[1,1]],[5,15])\n",
    "pm(matrix)"
   ]
  },
  {
   "cell_type": "code",
   "execution_count": 9,
   "metadata": {},
   "outputs": [
    {
     "name": "stdout",
     "output_type": "stream",
     "text": [
      "Distancia aparente: 6\n"
     ]
    },
    {
     "data": {
      "text/plain": [
       "6"
      ]
     },
     "execution_count": 9,
     "metadata": {},
     "output_type": "execute_result"
    }
   ],
   "source": [
    "ad(matrix)"
   ]
  },
  {
   "cell_type": "markdown",
   "metadata": {},
   "source": [
    "<b>Ejemplo 2</b>"
   ]
  },
  {
   "cell_type": "code",
   "execution_count": 10,
   "metadata": {},
   "outputs": [
    {
     "name": "stdout",
     "output_type": "stream",
     "text": [
      "[0, 1, 1, 0, 1, 0, 0, 0, 1, 0, 0, 0, 0, 0, 0]\n",
      "[0, 1, 0, 1, 0, 1, 1, 1, 1, 1, 1, 1, 1, 1, 1]\n",
      "[0, 1, 1, 1, 0, 1, 1, 1, 0, 1, 1, 1, 1, 1, 1]\n",
      "[0, 0, 0, 1, 1, 1, 1, 1, 1, 1, 1, 1, 1, 1, 1]\n",
      "[0, 0, 1, 1, 1, 1, 1, 1, 0, 1, 1, 1, 1, 1, 1]\n",
      "\n"
     ]
    }
   ],
   "source": [
    "matrix = generate_matrix(2,[[0,0],[0,3],[0,5],[0,7],[1,0],[1,2],[1,4]],[5,15])\n",
    "pm(matrix)"
   ]
  },
  {
   "cell_type": "code",
   "execution_count": 11,
   "metadata": {},
   "outputs": [
    {
     "name": "stdout",
     "output_type": "stream",
     "text": [
      "Distancia aparente: 8\n"
     ]
    },
    {
     "data": {
      "text/plain": [
       "8"
      ]
     },
     "execution_count": 11,
     "metadata": {},
     "output_type": "execute_result"
    }
   ],
   "source": [
    "ad(matrix)"
   ]
  },
  {
   "cell_type": "markdown",
   "metadata": {},
   "source": [
    "<b>Ejemplo 3</b>"
   ]
  },
  {
   "cell_type": "code",
   "execution_count": 12,
   "metadata": {},
   "outputs": [
    {
     "name": "stdout",
     "output_type": "stream",
     "text": [
      "[1, 1, 1, 0, 1, 0, 0, 1, 1, 0, 0, 1, 0, 1, 1]\n",
      "[1, 0, 1, 1, 1, 1, 1, 1, 1, 1, 1, 1, 1, 1, 1]\n",
      "[1, 1, 0, 1, 1, 1, 1, 1, 1, 1, 1, 1, 1, 1, 1]\n",
      "[1, 1, 1, 1, 1, 1, 1, 1, 0, 1, 1, 1, 1, 1, 1]\n",
      "[1, 1, 1, 1, 0, 1, 1, 1, 1, 1, 1, 1, 1, 1, 1]\n",
      "\n",
      "Distancia aparente: 3\n",
      "\n",
      "CPU times: user 0 ns, sys: 0 ns, total: 0 ns\n",
      "Wall time: 3.73 ms\n"
     ]
    }
   ],
   "source": [
    "%%time\n",
    "matrix = generate_matrix(2,[[0,3],[0,5],[1,1]],[5,15])\n",
    "pm(matrix)\n",
    "ad(matrix)\n",
    "print(\"\")"
   ]
  },
  {
   "cell_type": "code",
   "execution_count": 13,
   "metadata": {},
   "outputs": [
    {
     "name": "stdout",
     "output_type": "stream",
     "text": [
      "Distancia aparente: 3\n"
     ]
    },
    {
     "data": {
      "text/plain": [
       "3"
      ]
     },
     "execution_count": 13,
     "metadata": {},
     "output_type": "execute_result"
    }
   ],
   "source": [
    "ad(matrix)"
   ]
  },
  {
   "cell_type": "markdown",
   "metadata": {},
   "source": [
    "<b>Ejemplo 4</b>"
   ]
  },
  {
   "cell_type": "code",
   "execution_count": 14,
   "metadata": {},
   "outputs": [
    {
     "name": "stdout",
     "output_type": "stream",
     "text": [
      "[1, 0, 0, 0, 0, 0, 0]\n",
      "[1, 0, 0, 1, 0, 1, 1]\n",
      "[1, 0, 0, 1, 0, 1, 1]\n",
      "[1, 0, 0, 1, 0, 1, 1]\n",
      "[1, 0, 0, 1, 0, 1, 1]\n",
      "\n"
     ]
    }
   ],
   "source": [
    "matrix = conjugate(generate_matrix(2,[[0,0],[1,0],[1,3]],[5,7]))\n",
    "pm(matrix)"
   ]
  },
  {
   "cell_type": "code",
   "execution_count": 15,
   "metadata": {},
   "outputs": [
    {
     "name": "stdout",
     "output_type": "stream",
     "text": [
      "Distancia aparente: 7\n"
     ]
    },
    {
     "data": {
      "text/plain": [
       "7"
      ]
     },
     "execution_count": 15,
     "metadata": {},
     "output_type": "execute_result"
    }
   ],
   "source": [
    "ad(matrix)"
   ]
  },
  {
   "cell_type": "markdown",
   "metadata": {},
   "source": [
    "<b>Ejemplo 5</b>"
   ]
  },
  {
   "cell_type": "code",
   "execution_count": 16,
   "metadata": {},
   "outputs": [
    {
     "name": "stdout",
     "output_type": "stream",
     "text": [
      "[0, 0, 0, 0, 0, 0, 0]\n",
      "[1, 0, 0, 1, 0, 1, 1]\n",
      "[1, 0, 0, 1, 0, 1, 1]\n",
      "[1, 0, 0, 1, 0, 1, 1]\n",
      "[1, 0, 0, 1, 0, 1, 1]\n",
      "\n"
     ]
    }
   ],
   "source": [
    "matrix = conjugate(generate_matrix(2,[[1,0],[1,3]],[5,7]))\n",
    "pm(matrix)"
   ]
  },
  {
   "cell_type": "code",
   "execution_count": 17,
   "metadata": {},
   "outputs": [
    {
     "name": "stdout",
     "output_type": "stream",
     "text": [
      "Distancia aparente: 6\n"
     ]
    },
    {
     "data": {
      "text/plain": [
       "6"
      ]
     },
     "execution_count": 17,
     "metadata": {},
     "output_type": "execute_result"
    }
   ],
   "source": [
    "ad(matrix)"
   ]
  },
  {
   "cell_type": "markdown",
   "metadata": {},
   "source": [
    "<b>Ejemplo 6</b>"
   ]
  },
  {
   "cell_type": "code",
   "execution_count": 18,
   "metadata": {},
   "outputs": [
    {
     "name": "stdout",
     "output_type": "stream",
     "text": [
      "[0, 0, 0, 0, 0, 0, 0, 0, 0, 0, 0, 0, 0, 0, 0]\n",
      "[1, 0, 0, 0, 0, 0, 0, 0, 0, 0, 1, 1, 0, 0, 1]\n",
      "[1, 0, 0, 0, 0, 1, 0, 1, 0, 0, 0, 0, 0, 1, 0]\n",
      "\n"
     ]
    }
   ],
   "source": [
    "matrix = conjugate(generate_matrix(2,[[1,0],[2,5],[2,7]],[3,15]))\n",
    "pm(matrix)"
   ]
  },
  {
   "cell_type": "code",
   "execution_count": 19,
   "metadata": {},
   "outputs": [
    {
     "name": "stdout",
     "output_type": "stream",
     "text": [
      "Distancia aparente: 12\n"
     ]
    },
    {
     "data": {
      "text/plain": [
       "12"
      ]
     },
     "execution_count": 19,
     "metadata": {},
     "output_type": "execute_result"
    }
   ],
   "source": [
    "ad(matrix)"
   ]
  },
  {
   "cell_type": "markdown",
   "metadata": {},
   "source": [
    "<b>Ejemplo 7 (Diana)</b>"
   ]
  },
  {
   "cell_type": "code",
   "execution_count": 23,
   "metadata": {},
   "outputs": [
    {
     "name": "stdout",
     "output_type": "stream",
     "text": [
      "[0, 1, 1, 0, 1, 0, 0]\n",
      "[0, 1, 1, 1, 1, 1, 1]\n",
      "[0, 1, 1, 1, 1, 1, 1]\n",
      "[0, 1, 1, 1, 1, 1, 1]\n",
      "[0, 1, 1, 1, 1, 1, 1]\n",
      "\n"
     ]
    }
   ],
   "source": [
    "matrix = generate_matrix(2,[[0,0],[1,0],[0,3]],[5,7])\n",
    "pm(matrix)"
   ]
  },
  {
   "cell_type": "code",
   "execution_count": 24,
   "metadata": {},
   "outputs": [
    {
     "name": "stdout",
     "output_type": "stream",
     "text": [
      "Distancia aparente: 4\n"
     ]
    },
    {
     "data": {
      "text/plain": [
       "4"
      ]
     },
     "execution_count": 24,
     "metadata": {},
     "output_type": "execute_result"
    }
   ],
   "source": [
    "ad(matrix)"
   ]
  },
  {
   "cell_type": "markdown",
   "metadata": {},
   "source": [
    "<b>Ejemplo 8 (Diana)</b>"
   ]
  },
  {
   "cell_type": "code",
   "execution_count": 25,
   "metadata": {},
   "outputs": [
    {
     "name": "stdout",
     "output_type": "stream",
     "text": [
      "[1, 0, 0, 0, 0, 0, 0]\n",
      "[1, 1, 1, 0, 1, 0, 0]\n",
      "[1, 1, 1, 0, 1, 0, 0]\n",
      "[1, 1, 1, 0, 1, 0, 0]\n",
      "[1, 1, 1, 0, 1, 0, 0]\n",
      "\n"
     ]
    }
   ],
   "source": [
    "matrix = generate_matrix(2,[[0,1],[0,3],[1,3]],[5,7])\n",
    "pm(matrix)"
   ]
  },
  {
   "cell_type": "code",
   "execution_count": 26,
   "metadata": {},
   "outputs": [
    {
     "name": "stdout",
     "output_type": "stream",
     "text": [
      "Distancia aparente: 7\n"
     ]
    },
    {
     "data": {
      "text/plain": [
       "7"
      ]
     },
     "execution_count": 26,
     "metadata": {},
     "output_type": "execute_result"
    }
   ],
   "source": [
    "ad(matrix)"
   ]
  },
  {
   "cell_type": "markdown",
   "metadata": {},
   "source": [
    "<b>Ejemplo 9 (Diana)</b>"
   ]
  },
  {
   "cell_type": "code",
   "execution_count": 27,
   "metadata": {},
   "outputs": [
    {
     "name": "stdout",
     "output_type": "stream",
     "text": [
      "[1, 0, 0, 1, 0, 0, 1, 0, 0]\n",
      "[0, 1, 1, 1, 1, 1, 1, 1, 1]\n",
      "[0, 1, 1, 1, 1, 1, 1, 1, 1]\n",
      "[0, 1, 1, 1, 1, 1, 1, 1, 1]\n",
      "[0, 1, 1, 1, 1, 1, 1, 1, 1]\n",
      "\n"
     ]
    }
   ],
   "source": [
    "matrix = generate_matrix(2,[[0,1],[1,0]],[5,9])\n",
    "pm(matrix)"
   ]
  },
  {
   "cell_type": "code",
   "execution_count": 28,
   "metadata": {},
   "outputs": [
    {
     "name": "stdout",
     "output_type": "stream",
     "text": [
      "Distancia aparente: 5\n"
     ]
    },
    {
     "data": {
      "text/plain": [
       "5"
      ]
     },
     "execution_count": 28,
     "metadata": {},
     "output_type": "execute_result"
    }
   ],
   "source": [
    "ad(matrix)"
   ]
  },
  {
   "cell_type": "markdown",
   "metadata": {},
   "source": [
    "<b>Ejemplo 10 (Diana)</b>"
   ]
  },
  {
   "cell_type": "code",
   "execution_count": 29,
   "metadata": {},
   "outputs": [
    {
     "name": "stdout",
     "output_type": "stream",
     "text": [
      "[0, 1, 1, 1, 1, 1, 1, 0, 1, 1, 1, 0, 1, 0, 0]\n",
      "[0, 1, 1, 1, 1, 1, 1, 1, 1, 1, 1, 1, 1, 1, 1]\n",
      "[0, 1, 1, 1, 1, 1, 1, 1, 1, 1, 1, 1, 1, 1, 1]\n",
      "\n"
     ]
    }
   ],
   "source": [
    "matrix = generate_matrix(2,[[0,0],[1,0],[0,7]],[3,15])\n",
    "pm(matrix)"
   ]
  },
  {
   "cell_type": "code",
   "execution_count": 30,
   "metadata": {},
   "outputs": [
    {
     "name": "stdout",
     "output_type": "stream",
     "text": [
      "Distancia aparente: 4\n"
     ]
    },
    {
     "data": {
      "text/plain": [
       "4"
      ]
     },
     "execution_count": 30,
     "metadata": {},
     "output_type": "execute_result"
    }
   ],
   "source": [
    "ad(matrix)"
   ]
  },
  {
   "cell_type": "code",
   "execution_count": null,
   "metadata": {},
   "outputs": [],
   "source": []
  }
 ],
 "metadata": {
  "kernelspec": {
   "display_name": "SageMath 9.1",
   "language": "sage",
   "name": "sagemath"
  },
  "language_info": {
   "codemirror_mode": {
    "name": "ipython",
    "version": 3
   },
   "file_extension": ".py",
   "mimetype": "text/x-python",
   "name": "python",
   "nbconvert_exporter": "python",
   "pygments_lexer": "ipython3",
   "version": "3.7.3"
  }
 },
 "nbformat": 4,
 "nbformat_minor": 2
}
