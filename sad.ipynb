{
 "cells": [
  {
   "cell_type": "code",
   "execution_count": 1,
   "metadata": {},
   "outputs": [],
   "source": [
    "from termcolor import colored\n",
    "import numpy as np"
   ]
  },
  {
   "cell_type": "code",
   "execution_count": 2,
   "metadata": {},
   "outputs": [],
   "source": [
    "#revisa si el vector es cero\n",
    "#vector: lista de enteros\n",
    "def zero_vector(vector):\n",
    "    if type(vector) is Integer:\n",
    "        return vector == 0\n",
    "    else:\n",
    "        for i in range(0,len(vector)):\n",
    "            if vector[i] != 0:\n",
    "                return False\n",
    "    return True"
   ]
  },
  {
   "cell_type": "code",
   "execution_count": 3,
   "metadata": {},
   "outputs": [],
   "source": [
    "#revisa si la matriz es cero\n",
    "#matrix: lista de listas de enteros\n",
    "def zero_matrix(matrix):\n",
    "    for i in matrix:\n",
    "        if not zero_vector(i):\n",
    "            return False\n",
    "    return True"
   ]
  },
  {
   "cell_type": "code",
   "execution_count": 4,
   "metadata": {},
   "outputs": [],
   "source": [
    "#imprime la matriz de una forma mas clara\n",
    "#matriz: lista de listas\n",
    "def pm(matriz):\n",
    "    for i in matriz:\n",
    "        print(i)"
   ]
  },
  {
   "cell_type": "code",
   "execution_count": 5,
   "metadata": {},
   "outputs": [],
   "source": [
    "#transpone la matriz\n",
    "#matriz: lista de listas\n",
    "def transpose_matrix(matriz):\n",
    "    npm = np.array\n",
    "    zipped_rows = zip(*matriz)\n",
    "    return [list(row) for row in zipped_rows]\n"
   ]
  },
  {
   "cell_type": "code",
   "execution_count": 6,
   "metadata": {},
   "outputs": [],
   "source": [
    "#calcula el omega de una hipercolumna en una matriz\n",
    "#matriz: lista de listas de enteros\n",
    "#vector: entero, el indice del vector\n",
    "#dim: 0 o 1, 0 para filas y 1 para columnas\n",
    "def omeg(matriz, vector, dim):\n",
    "    counter = 0\n",
    "    if dim == 0:\n",
    "        matriz = matriz[vector:] + matriz\n",
    "        for i in range(len(matriz)):\n",
    "            if(zero_vector(matriz[i+1])):\n",
    "                counter += 1\n",
    "            else:\n",
    "                break\n",
    "    if dim == 1:\n",
    "        t_matriz = transpose_matrix(matriz)\n",
    "        t_matriz = t_matriz[vector:] + t_matriz\n",
    "        for i in range(len(t_matriz)):\n",
    "            if(zero_vector(t_matriz[i+1])):\n",
    "                counter += 1\n",
    "            else:\n",
    "                break\n",
    "    return counter"
   ]
  },
  {
   "cell_type": "code",
   "execution_count": 7,
   "metadata": {},
   "outputs": [],
   "source": [
    "#calcula la distancia aparente fuerte de una hipercolumna\n",
    "#hm: lista de enteros, la hipercolumna\n",
    "def sdist_Hm(hm):\n",
    "    om = [0]\n",
    "    indices = []\n",
    "    for i in range(0,len(hm)):\n",
    "        if hm[i] == 0:\n",
    "            indices.append(i)\n",
    "    for i in indices:\n",
    "        om.append(omeg(hm,i,0)+2)\n",
    "    return max(om) if om else 0"
   ]
  },
  {
   "cell_type": "code",
   "execution_count": 8,
   "metadata": {},
   "outputs": [],
   "source": [
    "#calcula la distancia aparente fuerte de una matriz\n",
    "#mat: lista de listas de enteros\n",
    "def sad(matr):\n",
    "    mat = matr\n",
    "    ind_x = []\n",
    "    ind_y = []\n",
    "    \n",
    "    omega_x = []\n",
    "    epsi_x = 0\n",
    "    om_x = 0\n",
    "    omega_Hm_x = []\n",
    "    omega_y = []\n",
    "    epsi_y = 0\n",
    "    om_y = 0\n",
    "    omega_Hm_y = []\n",
    "    \n",
    "    dist_x = 0\n",
    "    dist_y = 0\n",
    "    \n",
    "    #separar filas y columnas\n",
    "    rows = list([x for x in mat])\n",
    "    columns = list([x for x in transpose_matrix(mat)])\n",
    "    \n",
    "    #distancia aparente respecto a x\n",
    "    #revisar cuales son las filas no nulas para sacar su omega y distancia aparente\n",
    "    for i in range(0, len(rows)):\n",
    "        if not zero_vector(rows[i]):\n",
    "            ind_x.append(i)\n",
    "    for i in ind_x:\n",
    "        omega_x.append(omeg(mat,i,0))\n",
    "        omega_Hm_x.append(sdist_Hm(rows[i]))\n",
    "    om_x = max(omega_x)\n",
    "    epsi_x = max(omega_Hm_x)\n",
    "    #calcular la distancia aparente respecto a x\n",
    "    dist_x = epsi_x*(om_x+1)\n",
    "            \n",
    "    #distancia aparente respecto a y     \n",
    "    #revisar cuales son las columnas no nulas para sacar su omega y distancia aparente\n",
    "    for i in range(0, len(columns)):\n",
    "        if not zero_vector(columns[i]):\n",
    "            ind_y.append(i)\n",
    "    for i in ind_y:\n",
    "        omega_y.append(omeg(mat,i,1))\n",
    "        omega_Hm_y.append(sdist_Hm(columns[i]))\n",
    "    om_y = max(omega_y)\n",
    "    epsi_y = max(omega_Hm_y)\n",
    "    #calcular la distancia aparente respecto a y\n",
    "    dist_y = epsi_y*(om_y+1)\n",
    "    \n",
    "    dist = max([dist_x,dist_y])\n",
    "    \n",
    "    #recopilar las parejas involucradas\n",
    "    ip = []\n",
    "    for i in range(len(omega_Hm_x)):\n",
    "        if dist == (om_x+1)*omega_Hm_x[i]:\n",
    "            ip.append([[1,ind_x[i]],omega_Hm_x[i]])\n",
    "    for i in range(len(omega_Hm_y)):\n",
    "        if dist == (om_y+1)*omega_Hm_y[i]:\n",
    "            ip.append([[2,ind_y[i]],omega_Hm_y[i]])\n",
    "            \n",
    "    #retornar la distancia aparente fuerte y la lista de parejas involucradas \n",
    "    #con sus respectivas distancias aparentes fuertes\n",
    "    return [dist,ip]"
   ]
  },
  {
   "cell_type": "code",
   "execution_count": 9,
   "metadata": {},
   "outputs": [],
   "source": [
    "#calcula las duplas que hacen parte de la q-orbita\n",
    "#q: entero, numero primo de la q-orbita\n",
    "#a: dupla de enteros, los enteros a0 y a1 de la q-orbita que se quiere calcular\n",
    "#r: dupla de enteros, r1 y r2 en I = Zr1 x Zr2\n",
    "def q_orbits(q,a,r):\n",
    "    parejas = []\n",
    "    for i in range(r[0]*r[1]):\n",
    "        coord1 = (a[0] * q**i) % r[0]\n",
    "        coord2 = (a[1] * q**i) % r[1]\n",
    "        if [coord1,coord2] not in parejas:\n",
    "            parejas.append([coord1,coord2])\n",
    "    return parejas"
   ]
  },
  {
   "cell_type": "code",
   "execution_count": 10,
   "metadata": {},
   "outputs": [],
   "source": [
    "#calcula las duplas que hacen parte de la q-orbita\n",
    "#q: entero, numero primo de la q-orbita\n",
    "#a: lista de duplas de enteros, las duplas de las q-orbitas\n",
    "#r: dupla de enteros, r1 y r2 en I = Zr1 x Zr2\n",
    "def generate_matrix(q,a,r):\n",
    "    coordinates = []\n",
    "    for j in a:\n",
    "        qorbits = q_orbits(q,j,r)\n",
    "        for o in qorbits:\n",
    "            if o not in coordinates:\n",
    "                coordinates.append(o) \n",
    "    matrix = [[0 for x in range(r[1])] for y in range(r[0])]\n",
    "    for i in range(r[0]):\n",
    "        for j in range(r[1]): \n",
    "            matrix[i][j] = 0 if [i,j] in coordinates else 1\n",
    "    return matrix\n",
    "\n",
    "#conjuga la matriz\n",
    "def conjugate_matrix(matriz):\n",
    "    m = matriz\n",
    "    for i in m:\n",
    "        for j in range(len(i)):\n",
    "            i[j] = 1 if (i[j]==0) else 0\n",
    "    return m"
   ]
  },
  {
   "cell_type": "code",
   "execution_count": 11,
   "metadata": {},
   "outputs": [],
   "source": [
    "#calcula el soporte de una hipercolumna\n",
    "#matriz, lista de lista de enteros\n",
    "#kb, dupla de enteros\n",
    "def support(matriz, kb):\n",
    "    indexes = []\n",
    "    if kb[0] == 1:\n",
    "        for i in range(len(matriz[kb[1]])):\n",
    "            if matriz[kb[1]][i] != 0:\n",
    "                indexes.append([kb[1],i])\n",
    "    if kb[0] == 2:\n",
    "        t_matriz = transpose_matrix(matriz)\n",
    "        for i in range(len(t_matriz[kb[1]])):\n",
    "            if t_matriz[kb[1]][i] != 0:\n",
    "                indexes.append([kb[1],i])\n",
    "    return indexes"
   ]
  },
  {
   "cell_type": "code",
   "execution_count": 12,
   "metadata": {},
   "outputs": [],
   "source": [
    "# mat: lista de listas, la matriz a la que se le va a calcular la DAM\n",
    "# q: entero, numero primo de las q-orbitas\n",
    "# r: dupla de enteros, r1 y r2 en I = Zr1 x Zr2\n",
    "# d es la distancia aparente fuerte de mat calculada anteriormente\n",
    "def min_sad(matr,q,r,d,itera):\n",
    "    iteracion = itera + 1\n",
    "    mat = matr\n",
    "    [dista, ip] = sad(mat)\n",
    "    print(dista, d)\n",
    "    dist = min(dista,d)\n",
    "    print(dist)\n",
    "    S = []\n",
    "    for pair in ip:\n",
    "        if pair[1] == 1:\n",
    "            return dist\n",
    "        S.append(support(mat,pair[0]))\n",
    "    S = [item for sublist in S for item in sublist]\n",
    "    orbits = []\n",
    "    for s in S:\n",
    "        orbits.append(q_orbits(q,s,r))\n",
    "    orbits = [item for sublist in orbits for item in sublist]\n",
    "    new_mat = mat\n",
    "    for i in range(len(new_mat)):\n",
    "        for j in range(len(new_mat[i])):\n",
    "            new_mat[i][j] = 0 if [i,j] in orbits else new_mat[i][j]\n",
    "    pm(new_mat)\n",
    "    if zero_matrix(new_mat):\n",
    "        print(\"Distancia aparente fuerte minima: \", dist)\n",
    "        return\n",
    "    else:\n",
    "        min_sad(new_mat,q,r,dist,iteracion)"
   ]
  },
  {
   "cell_type": "markdown",
   "metadata": {},
   "source": [
    "<b>Ejemplo 1</b>"
   ]
  },
  {
   "cell_type": "code",
   "execution_count": 13,
   "metadata": {},
   "outputs": [
    {
     "name": "stdout",
     "output_type": "stream",
     "text": [
      "[0, 0, 0, 0, 0, 1, 0, 1, 0, 0, 1, 1, 0, 1, 1]\n",
      "[0, 0, 1, 1, 1, 1, 1, 1, 1, 1, 1, 1, 1, 1, 1]\n",
      "[0, 1, 0, 1, 1, 1, 1, 1, 1, 1, 1, 1, 1, 1, 1]\n",
      "[0, 1, 1, 1, 1, 1, 1, 1, 0, 1, 1, 1, 1, 1, 1]\n",
      "[0, 1, 1, 1, 0, 1, 1, 1, 1, 1, 1, 1, 1, 1, 1]\n"
     ]
    }
   ],
   "source": [
    "matrix =  generate_matrix(2,[[0,0],[0,1],[0,3],[1,0],[1,1]],[5,15])\n",
    "pm(matrix)"
   ]
  },
  {
   "cell_type": "code",
   "execution_count": 14,
   "metadata": {},
   "outputs": [
    {
     "data": {
      "text/plain": [
       "6"
      ]
     },
     "execution_count": 14,
     "metadata": {},
     "output_type": "execute_result"
    }
   ],
   "source": [
    "distancia = sad(matrix)[0]\n",
    "distancia"
   ]
  },
  {
   "cell_type": "code",
   "execution_count": 15,
   "metadata": {},
   "outputs": [
    {
     "name": "stdout",
     "output_type": "stream",
     "text": [
      "6 6\n",
      "6\n",
      "[0, 0, 0, 0, 0, 0, 0, 0, 0, 0, 0, 0, 0, 0, 0]\n",
      "[0, 0, 0, 0, 0, 1, 1, 1, 0, 1, 1, 1, 0, 1, 1]\n",
      "[0, 0, 0, 1, 0, 1, 0, 1, 0, 0, 1, 1, 1, 1, 1]\n",
      "[0, 0, 0, 1, 0, 1, 0, 1, 0, 0, 1, 1, 1, 1, 1]\n",
      "[0, 0, 0, 0, 0, 1, 1, 1, 0, 1, 1, 1, 0, 1, 1]\n",
      "16 6\n",
      "6\n",
      "[0, 0, 0, 0, 0, 0, 0, 0, 0, 0, 0, 0, 0, 0, 0]\n",
      "[0, 0, 0, 0, 0, 1, 0, 1, 0, 0, 1, 1, 0, 1, 1]\n",
      "[0, 0, 0, 0, 0, 1, 0, 1, 0, 0, 1, 1, 0, 1, 1]\n",
      "[0, 0, 0, 0, 0, 1, 0, 1, 0, 0, 1, 1, 0, 1, 1]\n",
      "[0, 0, 0, 0, 0, 1, 0, 1, 0, 0, 1, 1, 0, 1, 1]\n",
      "12 6\n",
      "6\n",
      "[0, 0, 0, 0, 0, 0, 0, 0, 0, 0, 0, 0, 0, 0, 0]\n",
      "[0, 0, 0, 0, 0, 0, 0, 0, 0, 0, 0, 0, 0, 0, 0]\n",
      "[0, 0, 0, 0, 0, 0, 0, 0, 0, 0, 0, 0, 0, 0, 0]\n",
      "[0, 0, 0, 0, 0, 0, 0, 0, 0, 0, 0, 0, 0, 0, 0]\n",
      "[0, 0, 0, 0, 0, 0, 0, 0, 0, 0, 0, 0, 0, 0, 0]\n",
      "Distancia aparente fuerte minima:  6\n"
     ]
    }
   ],
   "source": [
    "min_sad(matrix,2,[5,15],distancia,0)"
   ]
  },
  {
   "cell_type": "markdown",
   "metadata": {},
   "source": [
    "<b>Ejemplo 2</b>"
   ]
  },
  {
   "cell_type": "code",
   "execution_count": 16,
   "metadata": {},
   "outputs": [
    {
     "name": "stdout",
     "output_type": "stream",
     "text": [
      "[0, 1, 1, 0, 1, 0, 0, 0, 1, 0, 0, 0, 0, 0, 0]\n",
      "[0, 1, 0, 1, 0, 1, 1, 1, 1, 1, 1, 1, 1, 1, 1]\n",
      "[0, 1, 1, 1, 0, 1, 1, 1, 0, 1, 1, 1, 1, 1, 1]\n",
      "[0, 0, 0, 1, 1, 1, 1, 1, 1, 1, 1, 1, 1, 1, 1]\n",
      "[0, 0, 1, 1, 1, 1, 1, 1, 0, 1, 1, 1, 1, 1, 1]\n"
     ]
    }
   ],
   "source": [
    "matrix = generate_matrix(2,[[0,0],[0,3],[0,5],[0,7],[1,0],[1,2],[1,4]],[5,15])\n",
    "pm(matrix)"
   ]
  },
  {
   "cell_type": "code",
   "execution_count": 17,
   "metadata": {},
   "outputs": [
    {
     "data": {
      "text/plain": [
       "8"
      ]
     },
     "execution_count": 17,
     "metadata": {},
     "output_type": "execute_result"
    }
   ],
   "source": [
    "distancia = sad(matrix)[0]\n",
    "distancia"
   ]
  },
  {
   "cell_type": "code",
   "execution_count": 18,
   "metadata": {},
   "outputs": [
    {
     "name": "stdout",
     "output_type": "stream",
     "text": [
      "8 8\n",
      "8\n",
      "[0, 0, 0, 0, 0, 0, 0, 0, 0, 0, 0, 0, 0, 0, 0]\n",
      "[0, 1, 0, 1, 0, 1, 1, 1, 1, 1, 1, 1, 1, 1, 1]\n",
      "[0, 1, 1, 1, 0, 1, 1, 1, 0, 1, 1, 1, 1, 1, 1]\n",
      "[0, 0, 0, 1, 1, 1, 1, 1, 1, 1, 1, 1, 1, 1, 1]\n",
      "[0, 0, 1, 1, 1, 1, 1, 1, 0, 1, 1, 1, 1, 1, 1]\n",
      "8 8\n",
      "8\n",
      "[0, 0, 0, 0, 0, 0, 0, 0, 0, 0, 0, 0, 0, 0, 0]\n",
      "[0, 0, 0, 0, 0, 0, 0, 0, 0, 0, 0, 0, 0, 0, 0]\n",
      "[0, 0, 0, 0, 0, 0, 0, 0, 0, 0, 0, 0, 0, 0, 0]\n",
      "[0, 0, 0, 0, 0, 0, 0, 0, 0, 0, 0, 0, 0, 0, 0]\n",
      "[0, 0, 0, 0, 0, 0, 0, 0, 0, 0, 0, 0, 0, 0, 0]\n",
      "Distancia aparente fuerte minima:  8\n"
     ]
    }
   ],
   "source": [
    "min_sad(matrix,2,[5,15],distancia,0)"
   ]
  },
  {
   "cell_type": "markdown",
   "metadata": {},
   "source": [
    "<b>Ejemplo 3</b>"
   ]
  },
  {
   "cell_type": "code",
   "execution_count": 32,
   "metadata": {},
   "outputs": [
    {
     "name": "stdout",
     "output_type": "stream",
     "text": [
      "[1, 1, 1, 0, 1, 0, 0, 1, 1, 0, 0, 1, 0, 1, 1]\n",
      "[1, 0, 1, 1, 1, 1, 1, 1, 1, 1, 1, 1, 1, 1, 1]\n",
      "[1, 1, 0, 1, 1, 1, 1, 1, 1, 1, 1, 1, 1, 1, 1]\n",
      "[1, 1, 1, 1, 1, 1, 1, 1, 0, 1, 1, 1, 1, 1, 1]\n",
      "[1, 1, 1, 1, 0, 1, 1, 1, 1, 1, 1, 1, 1, 1, 1]\n",
      "\n",
      "Distancia inicial: 3\n",
      "3 3\n",
      "3\n",
      "[0, 0, 0, 0, 0, 0, 0, 0, 0, 0, 0, 0, 0, 0, 0]\n",
      "[1, 0, 1, 1, 1, 1, 1, 1, 1, 1, 1, 1, 1, 1, 1]\n",
      "[1, 1, 0, 1, 1, 1, 1, 1, 1, 1, 1, 1, 1, 1, 1]\n",
      "[1, 1, 1, 1, 1, 1, 1, 1, 0, 1, 1, 1, 1, 1, 1]\n",
      "[1, 1, 1, 1, 0, 1, 1, 1, 1, 1, 1, 1, 1, 1, 1]\n",
      "4 3\n",
      "3\n",
      "[0, 0, 0, 0, 0, 0, 0, 0, 0, 0, 0, 0, 0, 0, 0]\n",
      "[0, 0, 0, 0, 0, 0, 0, 0, 0, 0, 0, 0, 0, 0, 0]\n",
      "[0, 0, 0, 0, 0, 0, 0, 0, 0, 0, 0, 0, 0, 0, 0]\n",
      "[0, 0, 0, 0, 0, 0, 0, 0, 0, 0, 0, 0, 0, 0, 0]\n",
      "[0, 0, 0, 0, 0, 0, 0, 0, 0, 0, 0, 0, 0, 0, 0]\n",
      "Distancia aparente fuerte minima:  3\n",
      "\n",
      "CPU times: user 0 ns, sys: 47 ms, total: 47 ms\n",
      "Wall time: 26.1 ms\n"
     ]
    }
   ],
   "source": [
    "%%time\n",
    "matrix = generate_matrix(2,[[0,3],[0,5],[1,1]],[5,15])\n",
    "pm(matrix)\n",
    "print(\"\")\n",
    "distancia = sad(matrix)[0]\n",
    "print(\"Distancia inicial:\",distancia)\n",
    "min_sad(matrix,2,[5,15],distancia,0)\n",
    "print(\"\")"
   ]
  },
  {
   "cell_type": "markdown",
   "metadata": {},
   "source": [
    "<b>Ejemplo 4</b>"
   ]
  },
  {
   "cell_type": "code",
   "execution_count": 20,
   "metadata": {},
   "outputs": [
    {
     "name": "stdout",
     "output_type": "stream",
     "text": [
      "[1, 0, 0, 0, 0, 0, 0]\n",
      "[1, 0, 0, 1, 0, 1, 1]\n",
      "[1, 0, 0, 1, 0, 1, 1]\n",
      "[1, 0, 0, 1, 0, 1, 1]\n",
      "[1, 0, 0, 1, 0, 1, 1]\n"
     ]
    }
   ],
   "source": [
    "matrix = conjugate_matrix(generate_matrix(2,[[0,0],[1,0],[1,3]],[5,7]))\n",
    "pm(matrix)"
   ]
  },
  {
   "cell_type": "code",
   "execution_count": 21,
   "metadata": {},
   "outputs": [
    {
     "data": {
      "text/plain": [
       "7"
      ]
     },
     "execution_count": 21,
     "metadata": {},
     "output_type": "execute_result"
    }
   ],
   "source": [
    "distancia = sad(matrix)[0]\n",
    "distancia"
   ]
  },
  {
   "cell_type": "code",
   "execution_count": 22,
   "metadata": {},
   "outputs": [
    {
     "name": "stdout",
     "output_type": "stream",
     "text": [
      "7 7\n",
      "7\n",
      "[0, 0, 0, 0, 0, 0, 0]\n",
      "[1, 0, 0, 1, 0, 1, 1]\n",
      "[1, 0, 0, 1, 0, 1, 1]\n",
      "[1, 0, 0, 1, 0, 1, 1]\n",
      "[1, 0, 0, 1, 0, 1, 1]\n",
      "6 7\n",
      "6\n",
      "[0, 0, 0, 0, 0, 0, 0]\n",
      "[0, 0, 0, 0, 0, 0, 0]\n",
      "[0, 0, 0, 0, 0, 0, 0]\n",
      "[0, 0, 0, 0, 0, 0, 0]\n",
      "[0, 0, 0, 0, 0, 0, 0]\n",
      "Distancia aparente fuerte minima:  6\n"
     ]
    }
   ],
   "source": [
    "min_sad(matrix,2,[5,7],distancia,0)"
   ]
  },
  {
   "cell_type": "markdown",
   "metadata": {},
   "source": [
    "<b>Ejemplo 5</b>"
   ]
  },
  {
   "cell_type": "code",
   "execution_count": 23,
   "metadata": {},
   "outputs": [
    {
     "name": "stdout",
     "output_type": "stream",
     "text": [
      "[0, 0, 0, 0, 0, 0, 0]\n",
      "[1, 0, 0, 1, 0, 1, 1]\n",
      "[1, 0, 0, 1, 0, 1, 1]\n",
      "[1, 0, 0, 1, 0, 1, 1]\n",
      "[1, 0, 0, 1, 0, 1, 1]\n"
     ]
    }
   ],
   "source": [
    "matrix = conjugate_matrix(generate_matrix(2,[[1,0],[1,3]],[5,7]))\n",
    "pm(matrix)"
   ]
  },
  {
   "cell_type": "code",
   "execution_count": 24,
   "metadata": {},
   "outputs": [
    {
     "data": {
      "text/plain": [
       "6"
      ]
     },
     "execution_count": 24,
     "metadata": {},
     "output_type": "execute_result"
    }
   ],
   "source": [
    "distancia = sad(matrix)[0]\n",
    "distancia"
   ]
  },
  {
   "cell_type": "code",
   "execution_count": 25,
   "metadata": {},
   "outputs": [
    {
     "name": "stdout",
     "output_type": "stream",
     "text": [
      "6 6\n",
      "6\n",
      "[0, 0, 0, 0, 0, 0, 0]\n",
      "[0, 0, 0, 0, 0, 0, 0]\n",
      "[0, 0, 0, 0, 0, 0, 0]\n",
      "[0, 0, 0, 0, 0, 0, 0]\n",
      "[0, 0, 0, 0, 0, 0, 0]\n",
      "Distancia aparente fuerte minima:  6\n"
     ]
    }
   ],
   "source": [
    "distancia = sad(matrix)[0]\n",
    "min_sad(matrix,2,[5,7],distancia,0)"
   ]
  },
  {
   "cell_type": "markdown",
   "metadata": {},
   "source": [
    "<b>Ejemplo 6</b>"
   ]
  },
  {
   "cell_type": "code",
   "execution_count": 26,
   "metadata": {},
   "outputs": [
    {
     "name": "stdout",
     "output_type": "stream",
     "text": [
      "[0, 0, 0, 0, 0, 0, 0, 0, 0, 0, 0, 0, 0, 0, 0]\n",
      "[1, 0, 0, 0, 0, 0, 0, 0, 0, 0, 1, 1, 0, 0, 1]\n",
      "[1, 0, 0, 0, 0, 1, 0, 1, 0, 0, 0, 0, 0, 1, 0]\n"
     ]
    }
   ],
   "source": [
    "matrix = conjugate_matrix(generate_matrix(2,[[1,0],[2,5],[2,7]],[3,15]))\n",
    "pm(matrix)"
   ]
  },
  {
   "cell_type": "code",
   "execution_count": 27,
   "metadata": {},
   "outputs": [
    {
     "data": {
      "text/plain": [
       "20"
      ]
     },
     "execution_count": 27,
     "metadata": {},
     "output_type": "execute_result"
    }
   ],
   "source": [
    "distancia = sad(matrix)[0]\n",
    "distancia"
   ]
  },
  {
   "cell_type": "code",
   "execution_count": 28,
   "metadata": {},
   "outputs": [
    {
     "name": "stdout",
     "output_type": "stream",
     "text": [
      "20 20\n",
      "20\n",
      "[0, 0, 0, 0, 0, 0, 0, 0, 0, 0, 0, 0, 0, 0, 0]\n",
      "[0, 0, 0, 0, 0, 0, 0, 0, 0, 0, 0, 0, 0, 0, 0]\n",
      "[0, 0, 0, 0, 0, 0, 0, 0, 0, 0, 0, 0, 0, 0, 0]\n",
      "Distancia aparente fuerte minima:  20\n"
     ]
    }
   ],
   "source": [
    "min_sad(matrix,2,[3,15],distancia,0)"
   ]
  },
  {
   "cell_type": "markdown",
   "metadata": {},
   "source": [
    "<b>Ejemplo 7 (Diana)</b>"
   ]
  },
  {
   "cell_type": "code",
   "execution_count": 29,
   "metadata": {},
   "outputs": [
    {
     "name": "stdout",
     "output_type": "stream",
     "text": [
      "[0, 1, 1, 0, 1, 0, 0]\n",
      "[0, 1, 1, 1, 1, 1, 1]\n",
      "[0, 1, 1, 1, 1, 1, 1]\n",
      "[0, 1, 1, 1, 1, 1, 1]\n",
      "[0, 1, 1, 1, 1, 1, 1]\n"
     ]
    }
   ],
   "source": [
    "matrix = generate_matrix(2,[[0,0],[1,0],[0,3]],[5,7])\n",
    "pm(matrix)"
   ]
  },
  {
   "cell_type": "code",
   "execution_count": 30,
   "metadata": {},
   "outputs": [
    {
     "data": {
      "text/plain": [
       "4"
      ]
     },
     "execution_count": 30,
     "metadata": {},
     "output_type": "execute_result"
    }
   ],
   "source": [
    "distancia = sad(matrix)[0]\n",
    "distancia"
   ]
  },
  {
   "cell_type": "code",
   "execution_count": 31,
   "metadata": {},
   "outputs": [
    {
     "name": "stdout",
     "output_type": "stream",
     "text": [
      "4 4\n",
      "4\n",
      "[0, 0, 0, 0, 0, 0, 0]\n",
      "[0, 0, 0, 0, 0, 0, 0]\n",
      "[0, 0, 0, 0, 0, 0, 0]\n",
      "[0, 0, 0, 0, 0, 0, 0]\n",
      "[0, 0, 0, 0, 0, 0, 0]\n",
      "Distancia aparente fuerte minima:  4\n"
     ]
    }
   ],
   "source": [
    "min_sad(matrix,2,[5,7],distancia,0)"
   ]
  }
 ],
 "metadata": {
  "kernelspec": {
   "display_name": "SageMath 9.1",
   "language": "sage",
   "name": "sagemath"
  },
  "language_info": {
   "codemirror_mode": {
    "name": "ipython",
    "version": 3
   },
   "file_extension": ".py",
   "mimetype": "text/x-python",
   "name": "python",
   "nbconvert_exporter": "python",
   "pygments_lexer": "ipython3",
   "version": "3.7.3"
  }
 },
 "nbformat": 4,
 "nbformat_minor": 2
}
